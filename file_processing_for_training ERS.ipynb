{
 "cells": [
  {
   "cell_type": "code",
   "execution_count": 3,
   "id": "ddd943c1-19e2-45dc-a321-92850b8acc56",
   "metadata": {},
   "outputs": [],
   "source": [
    "import pandas as pd\n",
    "import numpy as np\n",
    "\n",
    "pd.set_option('display.max_rows', 10)\n",
    "pd.set_option('display.max_columns', None)\n",
    "dir_input = \"Harmonised All/\"\n",
    "dir_output = \"ML Analysis/\"\n",
    "\n",
    "df_merged01 = pd.read_excel(dir_input+\"harmonised_eufest_data.xlsx\")\n",
    "df_merged02 = pd.read_excel(dir_input+\"harmonised_raise_data.xlsx\")\n",
    "\n",
    "# Concatenate rows\n",
    "df_merged = pd.concat([df_merged01, df_merged02], axis=0, ignore_index=True)\n",
    "\n",
    "df_merged2 = pd.read_excel(dir_input+\"harmonised_stoppd_data.xlsx\")"
   ]
  },
  {
   "cell_type": "code",
   "execution_count": 4,
   "id": "2d455bad-7162-42a2-b471-47ef580d1d8e",
   "metadata": {},
   "outputs": [],
   "source": [
    "#Label\n",
    "label_to_use = 'V367CD_PSD_REG'\n",
    "if label_to_use == 'V367CD_PSD_REG':\n",
    "    analysis_labels = ['crfnr', 'V367CD_PSD_REG']\n",
    "    df_merged.drop(columns=[\"V367CD_PSD_CLASS\"], inplace = True)\n",
    "    df_merged2.drop(columns=[\"V367CD_PSD_CLASS\"], inplace = True)\n",
    "else:\n",
    "    analysis_labels = ['crfnr', 'V367CD_PSD_CLASS']\n",
    "    df_merged.drop(columns=['V6CDTOTAL'], inplace = True)\n",
    "    df_merged2.drop(columns=['V6CDTOTAL'], inplace = True)\n",
    "    \n",
    "\n",
    "# Remove rows where the label is NaN. \n",
    "df_merged = df_merged.dropna(subset=analysis_labels)\n",
    "\n",
    "threshold_percentage = 20\n",
    "# Remove columns with more than 20% missing values. \n",
    "df_merged = df_merged.drop(columns = df_merged.columns[df_merged.isnull().mean() > threshold_percentage / 100])\n",
    "\n",
    "# Remove rows with more than 20% missing values\n",
    "df_merged = df_merged.drop(index = df_merged[df_merged.isnull().mean(axis=1) > threshold_percentage / 100].index)\n",
    "\n",
    "##Convert label to text.\n",
    "if \"CLASS\" in label_to_use:\n",
    "    label_mapping = {1: 'NoDepression', 0: 'Depression'}\n",
    "    df_merged.loc[:, label_to_use] = df_merged[label_to_use].map(label_mapping)\n",
    "\n",
    "\n",
    "# Remove rows where the label is NaN. \n",
    "df_merged2 = df_merged2.dropna(subset=analysis_labels)\n",
    "\n",
    "# Remove columns with more than 20% missing values. \n",
    "df_merged2 = df_merged2.drop(columns = df_merged2.columns[df_merged2.isnull().mean() > threshold_percentage / 100])\n",
    "\n",
    "# Remove rows with more than 20% missing values\n",
    "df_merged2 = df_merged2.drop(index = df_merged2[df_merged2.isnull().mean(axis=1) > threshold_percentage / 100].index)\n",
    "\n",
    "##Convert label to text.\n",
    "if \"CLASS\" in label_to_use:\n",
    "    label_mapping = {1: 'NoDepression', 0: 'Depression'}\n",
    "    df_merged2.loc[:, label_to_use] = df_merged2[label_to_use].map(label_mapping)\n",
    "\n",
    "df_merged.to_excel(dir_output+\"data_eufestraise.xlsx\", index = None)\n",
    "df_merged2.to_excel(dir_output+\"data_stoppd.xlsx\", index = None)"
   ]
  }
 ],
 "metadata": {
  "kernelspec": {
   "display_name": "Python 3 (ipykernel)",
   "language": "python",
   "name": "python3"
  },
  "language_info": {
   "codemirror_mode": {
    "name": "ipython",
    "version": 3
   },
   "file_extension": ".py",
   "mimetype": "text/x-python",
   "name": "python",
   "nbconvert_exporter": "python",
   "pygments_lexer": "ipython3",
   "version": "3.11.7"
  }
 },
 "nbformat": 4,
 "nbformat_minor": 5
}
